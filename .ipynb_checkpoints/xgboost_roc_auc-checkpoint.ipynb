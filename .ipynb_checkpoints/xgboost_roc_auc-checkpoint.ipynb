{
 "cells": [
  {
   "cell_type": "code",
   "execution_count": 1,
   "id": "1c85f355-2edf-4214-99cd-700087b7823b",
   "metadata": {},
   "outputs": [],
   "source": [
    "import numpy as np\n",
    "import pandas as pd\n",
    "from sklearn.metrics import confusion_matrix, accuracy_score, roc_auc_score\n",
    "from sklearn.metrics import roc_curve, auc, f1_score, precision_recall_curve, average_precision_score\n",
    "from xgboost import XGBClassifier\n",
    "import xgboost as xgb\n",
    "from sklearn.model_selection import KFold\n",
    "import matplotlib.pylab as plt\n",
    "import seaborn as sns\n",
    "from matplotlib.pyplot import figure\n",
    "import datetime\n",
    "from tqdm.notebook import tqdm"
   ]
  },
  {
   "cell_type": "markdown",
   "id": "33843213-3ff5-449f-9471-a440c92973bc",
   "metadata": {
    "tags": []
   },
   "source": [
    "# Prepare Data "
   ]
  },
  {
   "cell_type": "code",
   "execution_count": 2,
   "id": "023250b1-5a8b-4f32-ae38-b435dc533ac5",
   "metadata": {},
   "outputs": [],
   "source": [
    "def load_data():\n",
    "    df_train = pd.read_csv('data/corona_tested_individuals_ver_006.english_cleaned.csv')\n",
    "    df_train.drop('Unnamed: 0', axis=1, inplace=True)\n",
    "    df_train['test_date'] = pd.to_datetime(df_train['test_date'], format='%Y-%m-%d')\n",
    "    df_train = df_train.set_index('test_date')\n",
    "    df_train = df_train.rename_axis(index=None, axis=1)\n",
    "    df_train.astype(int)\n",
    "    df_train_0322_0331 = df_train.truncate(before=pd.Timestamp('2020-03-22'), after=pd.Timestamp('2020-03-31'))\n",
    "    df_test_0401_0407 = df_train.truncate(before=pd.Timestamp('2020-04-01'), after=pd.Timestamp('2020-04-07'))\n",
    "    var_col = [c for c in df_train if c not in ['corona_result']]\n",
    "    X_train = df_train_0322_0331.loc[:, var_col]\n",
    "    y_train = df_train_0322_0331.loc[:, 'corona_result']\n",
    "    X_test = df_test_0401_0407.loc[:, var_col]\n",
    "    y_test = df_test_0401_0407.loc[:, 'corona_result']\n",
    "    return X_train, X_test, y_train, y_test"
   ]
  },
  {
   "cell_type": "code",
   "execution_count": 3,
   "id": "9c339646-07dc-46f5-ab3d-3b713b354eef",
   "metadata": {},
   "outputs": [],
   "source": [
    "X_train, X_test, y_train, y_test = load_data()"
   ]
  },
  {
   "cell_type": "markdown",
   "id": "afd79015-a6c3-44cf-a12a-9f271de9d97d",
   "metadata": {
    "tags": []
   },
   "source": [
    "# Draw ROC AUC Curve\n",
    "- reference: https://towardsdatascience.com/pooled-roc-with-xgboost-and-plotly-553a8169680c"
   ]
  },
  {
   "cell_type": "markdown",
   "id": "23fa4515-1590-4f3f-87de-d5216a524c7f",
   "metadata": {},
   "source": [
    "## Define model\n",
    "- Using the best model we get from grid searching"
   ]
  },
  {
   "cell_type": "code",
   "execution_count": 4,
   "id": "2e784841-f3f7-4ef9-80bf-e1fed583d8bf",
   "metadata": {
    "tags": []
   },
   "outputs": [],
   "source": [
    "model = XGBClassifier(n_estimators=400, learning_rate=1e-2, n_jobs=-1, random_state=42)"
   ]
  },
  {
   "cell_type": "markdown",
   "id": "94ea1df8-41b2-4889-8e73-0fbf880c6fa9",
   "metadata": {},
   "source": [
    "## Train"
   ]
  },
  {
   "cell_type": "code",
   "execution_count": 5,
   "id": "29a6adbc-02b9-46fd-a340-36f4cd21412c",
   "metadata": {},
   "outputs": [],
   "source": [
    "cv    = KFold(n_splits=5, shuffle=True, random_state=42)\n",
    "folds = [(train,test) for train, test in cv.split(X_train, y_train)]"
   ]
  },
  {
   "cell_type": "code",
   "execution_count": 6,
   "id": "88fdeb25-4569-497e-9270-e9ef04035e7b",
   "metadata": {},
   "outputs": [],
   "source": [
    "metrics = ['auc', 'fpr', 'tpr', 'thresholds']\n",
    "results = {\n",
    "    'train': {m:[] for m in metrics},\n",
    "    'val'  : {m:[] for m in metrics},\n",
    "    'test' : {m:[] for m in metrics}\n",
    "}"
   ]
  },
  {
   "cell_type": "code",
   "execution_count": 7,
   "id": "27c9e57c-aae5-47fa-bf40-6cc7f5c1d9fe",
   "metadata": {},
   "outputs": [],
   "source": [
    "params = {\n",
    "    'objective'   : 'binary:logistic',\n",
    "    'eval_metric' : 'logloss'\n",
    "}"
   ]
  },
  {
   "cell_type": "code",
   "execution_count": 8,
   "id": "9eda9103-52e7-437e-b908-4c11dba4668e",
   "metadata": {},
   "outputs": [
    {
     "data": {
      "application/vnd.jupyter.widget-view+json": {
       "model_id": "965749458db14a50afabe07d5597d571",
       "version_major": 2,
       "version_minor": 0
      },
      "text/plain": [
       "  0%|          | 0/5 [00:00<?, ?it/s]"
      ]
     },
     "metadata": {},
     "output_type": "display_data"
    }
   ],
   "source": [
    "dtest = [X_test, y_test]\n",
    "# dtest = xgb.DMatrix(X_test, label=y_test)\n",
    "for train, test in tqdm(folds, total=len(folds)):\n",
    "    dtrain = [X_train.iloc[train,:], y_train.iloc[train]]\n",
    "    dval   = [X_train.iloc[test,:], y_train.iloc[test]]\n",
    "\n",
    "    # dtrain = xgb.DMatrix(X_train.iloc[train,:], label=y_train.iloc[train])\n",
    "    # dval   = xgb.DMatrix(X_train.iloc[test,:], label=y_train.iloc[test])\n",
    "    # model  = xgb.train(\n",
    "    #     dtrain                = dtrain,\n",
    "    #     params                = params, \n",
    "    #     evals                 = [(dtrain, 'train'), (dval, 'val')],\n",
    "    #     num_boost_round       = 1000,\n",
    "    #     verbose_eval          = False,\n",
    "    #     early_stopping_rounds = 10,\n",
    "    # )\n",
    "    # , eval_set=list(zip(X_train.iloc[test,:], y_train.iloc[test]))\n",
    "    model = XGBClassifier(n_estimators=400, learning_rate=1e-2, n_jobs=-1, random_state=42)\n",
    "    model.fit(dtrain[0], dtrain[1])\n",
    "    sets = [dtrain, dval, dtest]\n",
    "    for i,ds in enumerate(results.keys()):\n",
    "        # y_preds              = model.predict(sets[i][0])\n",
    "        probs = model.predict_proba(sets[i][0])\n",
    "        prob = probs[:, 1]\n",
    "        labels               = sets[i][1]\n",
    "        # fpr, tpr, thresholds = roc_curve(labels, y_preds)\n",
    "        fpr, tpr, thresholds = roc_curve(labels, prob)\n",
    "        results[ds]['fpr'].append(fpr)\n",
    "        results[ds]['tpr'].append(tpr)\n",
    "        results[ds]['thresholds'].append(thresholds)\n",
    "        # results[ds]['auc'].append(roc_auc_score(labels, y_preds))\n",
    "        results[ds]['auc'].append(roc_auc_score(labels, prob))"
   ]
  },
  {
   "cell_type": "code",
   "execution_count": 9,
   "id": "e1236db0-8a50-44dd-b116-86c08232d13d",
   "metadata": {},
   "outputs": [],
   "source": [
    "kind = 'val'\n",
    "fpr_mean    = np.linspace(0, 1, 100)\n",
    "interp_tprs = []\n",
    "for i in range(5):\n",
    "    fpr           = results[kind]['fpr'][i]\n",
    "    tpr           = results[kind]['tpr'][i]\n",
    "    interp_tpr    = np.interp(fpr_mean, fpr, tpr)\n",
    "    interp_tpr[0] = 0.0\n",
    "    interp_tprs.append(interp_tpr)\n",
    "train_auc = np.mean(results[kind]['auc'])"
   ]
  },
  {
   "cell_type": "markdown",
   "id": "acb644cb-767f-454c-8835-0c0b1c922096",
   "metadata": {},
   "source": [
    "## Calculate Confidence Interval\n",
    "- reference: https://towardsdatascience.com/how-to-calculate-confidence-intervals-in-python-a8625a48e62b"
   ]
  },
  {
   "cell_type": "code",
   "execution_count": 10,
   "id": "557f3bf9-15af-4f5e-afbd-9cea6e372de8",
   "metadata": {},
   "outputs": [],
   "source": [
    "from scipy.stats import t\n",
    "x = results[kind]['auc']\n",
    "m = np.mean(x) \n",
    "s = np.std(x) \n",
    "dof = len(results[kind]['auc'])-1 \n",
    "confidence = 0.95\n",
    "t_crit = np.abs(t.ppf((1-confidence)/2,dof))\n",
    "confidence_lower_ROC, confidence_upper_ROC = (m-s*t_crit/np.sqrt(len(x)), m+s*t_crit/np.sqrt(len(x))) "
   ]
  },
  {
   "cell_type": "code",
   "execution_count": 11,
   "id": "e2df268b-b957-4ca5-8c29-8d3f63f4a2af",
   "metadata": {},
   "outputs": [],
   "source": [
    "fpr = []\n",
    "tpr = []\n",
    "for i in range(100):\n",
    "    for j in range(5):\n",
    "        fpr.append(fpr_mean[i])\n",
    "        tpr.append(interp_tprs[j][i])\n",
    "d_ROC_train = {'1-specificity': fpr, 'Sensitivity': tpr}\n",
    "df_ROC_train = pd.DataFrame(d_ROC_train)"
   ]
  },
  {
   "cell_type": "markdown",
   "id": "911ece10-3ed4-419f-95fa-a189fe83aa9c",
   "metadata": {},
   "source": [
    "## Test"
   ]
  },
  {
   "cell_type": "code",
   "execution_count": 12,
   "id": "5dec4936-0b6c-49de-b02d-f28118facc5a",
   "metadata": {},
   "outputs": [],
   "source": [
    "probs_test = model.predict_proba(X_test)\n",
    "prob_test = probs_test[:, 1]\n",
    "test_auc = roc_auc_score(y_test, prob_test)\n",
    "fpr, tpr, thresholds = roc_curve(y_test, prob_test)\n",
    "d_ROC_test = {'1-specificity': fpr, 'Sensitivity': tpr}\n",
    "df_ROC_test = pd.DataFrame(d_ROC_test)"
   ]
  },
  {
   "cell_type": "markdown",
   "id": "ba69736c-edc1-4799-bec4-ae26a81c9860",
   "metadata": {},
   "source": [
    "## Draw the Curve"
   ]
  },
  {
   "cell_type": "code",
   "execution_count": 13,
   "id": "4a16587f-757a-4429-ba58-b1424400c58d",
   "metadata": {},
   "outputs": [
    {
     "data": {
      "image/png": "[encoded data removed]",
      "text/plain": [
       "<Figure size 640x480 with 1 Axes>"
      ]
     },
     "metadata": {
      "needs_background": "light"
     },
     "output_type": "display_data"
    }
   ],
   "source": [
    "figure(figsize=(8, 6), dpi=80)\n",
    "sns.set(palette='rainbow', context='talk')\n",
    "sns.lineplot(data=df_ROC_train, x=\"1-specificity\", y=\"Sensitivity\", ci=95)\n",
    "sns.lineplot(data=df_ROC_test, x=\"1-specificity\", y=\"Sensitivity\").set(title='XGBoost Receiver Operating Characteristic')\n",
    "plt.plot([0, 1], [0, 1], color='grey', linestyle='-', linewidth = 0.5)\n",
    "plt.legend(labels=['Train auROC={:.2f}, 95% CI: {:.3f}-{:.3f}'.format(train_auc, confidence_lower_ROC, confidence_upper_ROC), 'Test auROC={:.2f}'.format(test_auc)], loc ='lower right')\n",
    "plt.savefig('img/xgboost_train_test_ROC.png')"
   ]
  }
 ],
 "metadata": {
  "kernelspec": {
   "display_name": "Python 3 (ipykernel)",
   "language": "python",
   "name": "python3"
  },
  "language_info": {
   "codemirror_mode": {
    "name": "ipython",
    "version": 3
   },
   "file_extension": ".py",
   "mimetype": "text/x-python",
   "name": "python",
   "nbconvert_exporter": "python",
   "pygments_lexer": "ipython3",
   "version": "3.8.10"
  }
 },
 "nbformat": 4,
 "nbformat_minor": 5
}
