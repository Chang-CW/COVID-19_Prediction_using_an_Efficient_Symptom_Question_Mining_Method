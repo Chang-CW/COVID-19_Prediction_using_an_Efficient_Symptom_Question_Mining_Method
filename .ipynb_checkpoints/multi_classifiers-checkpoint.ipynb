{
 "cells": [
  {
   "cell_type": "code",
   "execution_count": null,
   "id": "540a0b86-0ba9-423c-8d9c-0b7fe0531d8c",
   "metadata": {},
   "outputs": [],
   "source": [
    "import numpy as np\n",
    "import pandas as pd\n",
    "from sklearn.svm import SVC\n",
    "from sklearn.ensemble import RandomForestClassifier\n",
    "from xgboost import XGBClassifier\n",
    "from sklearn.neighbors import KNeighborsClassifier\n",
    "from sklearn.linear_model import LogisticRegression\n",
    "from sklearn.tree import DecisionTreeClassifier\n",
    "from sklearn.naive_bayes import GaussianNB\n",
    "from sklearn.metrics import confusion_matrix, accuracy_score, recall_score, precision_score, f1_score\n",
    "from sklearn.metrics import roc_auc_score, make_scorer\n",
    "from sklearn.model_selection import GridSearchCV, cross_val_score, cross_validate\n",
    "import matplotlib.pylab as plt\n",
    "from matplotlib.pyplot import figure\n",
    "import seaborn as sns\n",
    "import datetime"
   ]
  },
  {
   "cell_type": "markdown",
   "id": "a3a64529-bfe5-4b39-bf24-f1917242ac86",
   "metadata": {
    "tags": []
   },
   "source": [
    "# Prepare Data "
   ]
  },
  {
   "cell_type": "code",
   "execution_count": null,
   "id": "023250b1-5a8b-4f32-ae38-b435dc533ac5",
   "metadata": {},
   "outputs": [],
   "source": [
    "def load_data():\n",
    "    df_train = pd.read_csv('data/corona_tested_individuals_ver_006.english_cleaned.csv')\n",
    "    df_train.drop('Unnamed: 0', axis=1, inplace=True)\n",
    "    df_train['test_date'] = pd.to_datetime(df_train['test_date'], format='%Y-%m-%d')\n",
    "    df_train = df_train.set_index('test_date')\n",
    "    df_train = df_train.rename_axis(index=None, axis=1)\n",
    "    df_train.astype(int)\n",
    "    df_train_0322_0331 = df_train.truncate(before=pd.Timestamp('2020-03-22'), after=pd.Timestamp('2020-03-31'))\n",
    "    df_test_0401_0407 = df_train.truncate(before=pd.Timestamp('2020-04-01'), after=pd.Timestamp('2020-04-07'))\n",
    "    var_col = [c for c in df_train if c not in ['corona_result']]\n",
    "    X_train = df_train_0322_0331.loc[:, var_col]\n",
    "    y_train = df_train_0322_0331.loc[:, 'corona_result']\n",
    "    X_test = df_test_0401_0407.loc[:, var_col]\n",
    "    y_test = df_test_0401_0407.loc[:, 'corona_result']\n",
    "    return X_train, X_test, y_train, y_test"
   ]
  },
  {
   "cell_type": "code",
   "execution_count": null,
   "id": "9c339646-07dc-46f5-ab3d-3b713b354eef",
   "metadata": {},
   "outputs": [],
   "source": [
    "X_train, X_test, y_train, y_test = load_data()"
   ]
  },
  {
   "cell_type": "markdown",
   "id": "a505789c-9df5-4b7a-a4a7-0cf8fe1acd71",
   "metadata": {},
   "source": [
    "# Train and Evaluate"
   ]
  },
  {
   "cell_type": "code",
   "execution_count": null,
   "id": "e5bc763e-b543-4fa6-8dfc-8c8d78825736",
   "metadata": {},
   "outputs": [],
   "source": [
    "names = ['SVM', 'Random Forest', 'XGBoost', 'KNN', 'Logistic Regression', 'Decision Tree', 'Naive Bayes']\n",
    "models = []\n",
    "models.append(SVC(class_weight='balanced', probability=True, random_state=42))\n",
    "models.append(RandomForestClassifier(class_weight='balanced', n_jobs=-1, random_state=42))\n",
    "models.append(XGBClassifier(scale_pos_weight=y_train.value_counts()[0]/y_train.value_counts()[1], n_jobs=-1, random_state=42))\n",
    "models.append(KNeighborsClassifier(n_jobs=-1))\n",
    "models.append(LogisticRegression(n_jobs=-1, random_state=42))\n",
    "models.append(DecisionTreeClassifier(random_state=42))\n",
    "models.append(GaussianNB())"
   ]
  },
  {
   "cell_type": "code",
   "execution_count": null,
   "id": "b5640454-84c3-48de-a04e-1a966f4e4b82",
   "metadata": {},
   "outputs": [],
   "source": [
    "def sens_func(y_true, y_pred):\n",
    "    cm = confusion_matrix(y_true, y_pred)\n",
    "    tn, fp, fn, tp = cm.ravel()\n",
    "    return tp/(tp+fn)\n",
    "def spec_func(y_true, y_pred):\n",
    "    cm = confusion_matrix(y_true, y_pred)\n",
    "    tn, fp, fn, tp = cm.ravel()\n",
    "    return tn/(tn+fp)\n",
    "sensitivity_scorer = make_scorer(sens_func)\n",
    "specificity_scorer = make_scorer(spec_func)"
   ]
  },
  {
   "cell_type": "code",
   "execution_count": null,
   "id": "d05c958e-28ba-4e13-801e-44aeb71dd5d2",
   "metadata": {},
   "outputs": [],
   "source": [
    "def evalModel(clf, X_train, y_train, X_test, y_test):\n",
    "    print('training & evaluating: {}'.format(clf))\n",
    "    \n",
    "    scoring = {'sensitivity': sensitivity_scorer,\n",
    "               'specificity': specificity_scorer,\n",
    "               'accuracy': 'accuracy',\n",
    "               'precision': 'precision',\n",
    "               'roc_auc': 'roc_auc'}\n",
    "    scores = cross_validate(clf, X_train, y_train, scoring=scoring, cv=5)\n",
    "    sensitivity = round(scores['test_sensitivity'].mean()*100, 2)\n",
    "    specificity = round(scores['test_specificity'].mean()*100, 2)\n",
    "    accuracy = round(scores['test_accuracy'].mean()*100, 2)\n",
    "    precision = round(scores['test_precision'].mean()*100, 2)\n",
    "    ROC = round(scores['test_roc_auc'].mean()*100, 2)\n",
    "    train_scores = [sensitivity, specificity, accuracy, precision, ROC]\n",
    "\n",
    "    clf.fit(X_train, y_train)\n",
    "    y_pred = clf.predict(X_test)\n",
    "    cm = confusion_matrix(y_test, y_pred)\n",
    "    tn, fp, fn, tp = cm.ravel()\n",
    "    sensitivity = round(tp/(tp+fn)*100, 2)\n",
    "    specificity = round(tn/(tn+fp)*100, 2)\n",
    "    accuracy = round(accuracy_score(y_test,y_pred)*100, 2)\n",
    "    precision = round(precision_score(y_test,y_pred)*100, 2)\n",
    "    probs = clf.predict_proba(X_test)\n",
    "    prob = probs[:, 1]\n",
    "    ROC = round(roc_auc_score(y_test, prob)*100, 2)\n",
    "    test_scores = [sensitivity, specificity, accuracy, precision, ROC]\n",
    "    \n",
    "    return train_scores, test_scores, cm"
   ]
  },
  {
   "cell_type": "code",
   "execution_count": null,
   "id": "d2b7f701-568f-4989-a4ef-9303254f3668",
   "metadata": {},
   "outputs": [],
   "source": [
    "train_scores_list = []\n",
    "test_scores_list = []\n",
    "for model in models:\n",
    "    train_scores, test_scores, cm = evalModel(model, X_train, y_train, X_test, y_test)\n",
    "    train_scores_list.append(train_scores)\n",
    "    test_scores_list.append(test_scores)\n",
    "df_train = pd.DataFrame(train_scores_list, columns=['Sensitivity(%)', 'Specificity(%)', 'Accuracy(%)', 'Precision(%)', 'ROC(%)'], index = names)\n",
    "df_test = pd.DataFrame(test_scores_list, columns=['Sensitivity(%)', 'Specificity(%)', 'Accuracy(%)', 'Precision(%)', 'ROC(%)'], index = names)\n",
    "df_train.to_csv('csv/df_train_default.csv')\n",
    "df_test.to_csv('csv/df_test_default.csv')"
   ]
  },
  {
   "cell_type": "markdown",
   "id": "0b8dd67c-eac6-4197-aee9-ac793a6ac37d",
   "metadata": {},
   "source": [
    "# GridSearchCV"
   ]
  },
  {
   "cell_type": "code",
   "execution_count": null,
   "id": "62da79ec-5e71-4ef4-84ca-c2e87a0cd1cc",
   "metadata": {},
   "outputs": [],
   "source": [
    "def gs_evalModel(clf, X_train, y_train, X_test, y_test, grid_values, scoring):\n",
    "    if grid_values != None:\n",
    "        grid_clf = GridSearchCV(clf, param_grid = grid_values, scoring = scoring, n_jobs = -1)\n",
    "        print('training: {}'.format(grid_clf))\n",
    "        grid_clf.fit(X_train, y_train)\n",
    "        best_params = grid_clf.best_params_\n",
    "        print('Best Parameters: {}'.format(best_params))\n",
    "    else:\n",
    "        grid_clf = clf\n",
    "        best_params = None\n",
    "        print('training: {}'.format(grid_clf))\n",
    "    \n",
    "    scoring_cv = {'sensitivity': sensitivity_scorer,\n",
    "                  'specificity': specificity_scorer,\n",
    "                  'accuracy': 'accuracy',\n",
    "                  'precision': 'precision',\n",
    "                  'roc_auc': 'roc_auc'}\n",
    "    scores = cross_validate(grid_clf, X_train, y_train, scoring=scoring_cv, cv=5)\n",
    "    sensitivity = round(scores['test_sensitivity'].mean()*100, 2)\n",
    "    specificity = round(scores['test_specificity'].mean()*100, 2)\n",
    "    accuracy = round(scores['test_accuracy'].mean()*100, 2)\n",
    "    precision = round(scores['test_precision'].mean()*100, 2)\n",
    "    ROC = round(scores['test_roc_auc'].mean()*100, 2)\n",
    "    train_scores = [sensitivity, specificity, accuracy, precision, ROC]\n",
    "    \n",
    "    y_pred = grid_clf.predict(X_test)\n",
    "    cm = confusion_matrix(y_test, y_pred)\n",
    "    tn, fp, fn, tp = cm.ravel()\n",
    "    sensitivity = round(tp/(tp+fn)*100, 2)\n",
    "    specificity = round(tn/(tn+fp)*100, 2)\n",
    "    accuracy = round(accuracy_score(y_test,y_pred)*100, 2)\n",
    "    precision = round(precision_score(y_test,y_pred)*100, 2)\n",
    "    probs = grid_clf.predict_proba(X_test)\n",
    "    prob = probs[:, 1]\n",
    "    ROC = round(roc_auc_score(y_test, prob)*100, 2)\n",
    "    test_scores = [sensitivity, specificity, accuracy, precision, ROC]\n",
    "    \n",
    "    return train_scores, test_scores, best_params, cm, grid_clf"
   ]
  },
  {
   "cell_type": "markdown",
   "id": "78525854-2f3a-4f3b-98d5-cd8a212c7cb9",
   "metadata": {},
   "source": [
    "## For Accuracy"
   ]
  },
  {
   "cell_type": "code",
   "execution_count": null,
   "id": "eb20f5e0-a6ef-44e4-8d12-cd808d65c44d",
   "metadata": {
    "tags": []
   },
   "outputs": [],
   "source": [
    "train_scores_list_gs = []\n",
    "test_scores_list_gs = []\n",
    "best_params_list = []\n",
    "best_models_list = []\n",
    "grid_values_list = [{'C': [1.0, 0.1, 0.01]}, \n",
    "                    {'n_estimators': [100, 200, 400, 600]}, \n",
    "                    {'n_estimators': [100, 200, 400, 600], 'learning_rate': [None, 1e-1, 1e-2]},\n",
    "                    {'leaf_size': [10, 20, 30]}, \n",
    "                    {'C': [1.0, 0.1, 0.01]}, \n",
    "                    None, \n",
    "                    {'var_smoothing': [1e-3, 1e-4, 1e-5]}]\n",
    "for model, grid_values in zip(models, grid_values_list):\n",
    "    train_scores, test_scores, best_params, cm, best_model = gs_evalModel(model, X_train, y_train, X_test, y_test, grid_values, 'accuracy')\n",
    "    train_scores_list_gs.append(train_scores)\n",
    "    test_scores_list_gs.append(test_scores)\n",
    "    best_params_list.append(best_params)\n",
    "    best_models_list.append(best_model)\n",
    "df_train_gs = pd.DataFrame(train_scores_list_gs, columns=['Sensitivity(%)', 'Specificity(%)', 'Accuracy(%)', 'Precision(%)', 'ROC(%)'], index = names)\n",
    "df_test_gs = pd.DataFrame(test_scores_list_gs, columns=['Sensitivity(%)', 'Specificity(%)', 'Accuracy(%)', 'Precision(%)', 'ROC(%)'], index = names)\n",
    "df_train_gs.to_csv('csv/df_train_gs_acc.csv')\n",
    "df_test_gs.to_csv('csv/df_test_gs_acc.csv')"
   ]
  },
  {
   "cell_type": "markdown",
   "id": "1d4c7e57-1059-4853-9b9b-b0a86d89e59c",
   "metadata": {},
   "source": [
    "### Best Parameters for Accuracy\n",
    "- SVM: {'C': 1.0}\n",
    "- Random Forest: {'n_estimators': 400}\n",
    "- XGBoost: {'n_estimators': 400, 'learning_rate': 1e-2}\n",
    "- KNN: {'leaf_size': 30}\n",
    "- Logistic Regression: {'C': 1.0} \n",
    "- Decision Tree: None\n",
    "- Naive Bayes: {'var_smoothing': 1e-4}"
   ]
  },
  {
   "cell_type": "markdown",
   "id": "959589ab-4033-44e9-ada4-9d3b9f387e28",
   "metadata": {},
   "source": [
    "***"
   ]
  },
  {
   "cell_type": "markdown",
   "id": "30580bf4-8b20-4bd7-88be-3d1fc279d05b",
   "metadata": {},
   "source": [
    "### Further GridSearch for SVM"
   ]
  },
  {
   "cell_type": "code",
   "execution_count": null,
   "id": "d24d13ba-e6ce-4149-b0dd-a5a521e2f375",
   "metadata": {},
   "outputs": [],
   "source": [
    "clf = SVC(probability=True, random_state=42)"
   ]
  },
  {
   "cell_type": "code",
   "execution_count": null,
   "id": "2267e149-f52c-40fc-99ae-431485a0bc9a",
   "metadata": {},
   "outputs": [],
   "source": [
    "grid_values = {'C': [0.1, 1, 10, 100, 1000], 'gamma': [1, 0.1, 0.01, 0.001, 0.0001]}\n",
    "grid_clf = GridSearchCV(clf, param_grid = grid_values, scoring = 'roc_auc', n_jobs = -1)\n",
    "print('training: {}'.format(grid_clf))\n",
    "grid_clf.fit(X_train, y_train)\n",
    "best_params = grid_clf.best_params_\n",
    "print('Best Parameters: {}'.format(best_params))"
   ]
  },
  {
   "cell_type": "code",
   "execution_count": null,
   "id": "bc6dc4f8-6b1d-470e-aa1f-bd584c460c5a",
   "metadata": {
    "tags": []
   },
   "outputs": [],
   "source": [
    "scoring_cv = {'sensitivity': sensitivity_scorer,\n",
    "                  'specificity': specificity_scorer,\n",
    "                  'accuracy': 'accuracy',\n",
    "                  'precision': 'precision',\n",
    "                  'roc_auc': 'roc_auc'}\n",
    "scores = cross_validate(grid_clf, X_train, y_train, scoring=scoring_cv, cv=5)\n",
    "sensitivity = round(scores['test_sensitivity'].mean()*100, 2)\n",
    "specificity = round(scores['test_specificity'].mean()*100, 2)\n",
    "accuracy = round(scores['test_accuracy'].mean()*100, 2)\n",
    "precision = round(scores['test_precision'].mean()*100, 2)\n",
    "ROC = round(scores['test_roc_auc'].mean()*100, 2)\n",
    "train_scores = [sensitivity, specificity, accuracy, precision, ROC]"
   ]
  },
  {
   "cell_type": "code",
   "execution_count": null,
   "id": "48a25484-39ac-464d-9ee9-056c3c307d28",
   "metadata": {},
   "outputs": [],
   "source": [
    "y_pred = grid_clf.predict(X_test)\n",
    "cm = confusion_matrix(y_test, y_pred)\n",
    "tn, fp, fn, tp = cm.ravel()\n",
    "sensitivity = round(tp/(tp+fn)*100, 2)\n",
    "specificity = round(tn/(tn+fp)*100, 2)\n",
    "accuracy = round(accuracy_score(y_test,y_pred)*100, 2)\n",
    "precision = round(precision_score(y_test,y_pred)*100, 2)\n",
    "probs = grid_clf.predict_proba(X_test)\n",
    "prob = probs[:, 1]\n",
    "ROC = round(roc_auc_score(y_test, prob)*100, 2)\n",
    "test_scores = [sensitivity, specificity, accuracy, precision, ROC]"
   ]
  },
  {
   "cell_type": "markdown",
   "id": "1c5a533b-0d4d-4fa5-9e72-fcba335cb451",
   "metadata": {},
   "source": [
    "- C:0.1, gamma:0.001"
   ]
  },
  {
   "cell_type": "markdown",
   "id": "b6efac63-0370-4c0a-be29-69410182308d",
   "metadata": {},
   "source": [
    "***"
   ]
  },
  {
   "cell_type": "markdown",
   "id": "40c6b80d-4a9f-4417-8745-a8ac0bd35f92",
   "metadata": {},
   "source": [
    "## For ROC_AUC"
   ]
  },
  {
   "cell_type": "code",
   "execution_count": null,
   "id": "6c143a04-4dde-4374-915c-799d471624ec",
   "metadata": {
    "tags": []
   },
   "outputs": [],
   "source": [
    "train_scores_list_gs = []\n",
    "test_scores_list_gs = []\n",
    "best_params_list = []\n",
    "best_models_list = []\n",
    "grid_values_list = [{'C': [1.0, 0.1, 0.01]}, \n",
    "                    {'n_estimators': [100, 200, 400, 600]}, \n",
    "                    {'n_estimators': [100, 200, 400, 600], 'learning_rate': [None, 1e-1, 1e-2]},\n",
    "                    {'leaf_size': [10, 20, 30]}, \n",
    "                    {'C': [1.0, 0.1, 0.01]}, \n",
    "                    None, \n",
    "                    {'var_smoothing': [1e-3, 1e-4, 1e-5]}]\n",
    "for model, grid_values in zip(models, grid_values_list):\n",
    "    train_scores, test_scores, best_params, cm, best_model = gs_evalModel(model, X_train, y_train, X_test, y_test, grid_values, 'roc_auc')\n",
    "    train_scores_list_gs.append(train_scores)\n",
    "    test_scores_list_gs.append(test_scores)\n",
    "    best_params_list.append(best_params)\n",
    "    best_models_list.append(best_model)\n",
    "df_train_gs = pd.DataFrame(train_scores_list_gs, columns=['Sensitivity(%)', 'Specificity(%)', 'Accuracy(%)', 'Precision(%)', 'ROC(%)'], index = names)\n",
    "df_test_gs = pd.DataFrame(test_scores_list_gs, columns=['Sensitivity(%)', 'Specificity(%)', 'Accuracy(%)', 'Precision(%)', 'ROC(%)'], index = names)\n",
    "df_train_gs.to_csv('csv/df_train_gs_roc_auc.csv')\n",
    "df_test_gs.to_csv('csv/df_test_gs_roc_auc.csv')"
   ]
  }
 ],
 "metadata": {
  "kernelspec": {
   "display_name": "Python 3 (ipykernel)",
   "language": "python",
   "name": "python3"
  },
  "language_info": {
   "codemirror_mode": {
    "name": "ipython",
    "version": 3
   },
   "file_extension": ".py",
   "mimetype": "text/x-python",
   "name": "python",
   "nbconvert_exporter": "python",
   "pygments_lexer": "ipython3",
   "version": "3.8.10"
  }
 },
 "nbformat": 4,
 "nbformat_minor": 5
}
